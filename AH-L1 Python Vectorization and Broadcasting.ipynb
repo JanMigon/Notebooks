{
 "cells": [
  {
   "cell_type": "markdown",
   "metadata": {},
   "source": [
    "# Python Vectorization using numpy library\n",
    "\n",
    "Welcome to Python and the vectorization available thanks to the numpy library. We'll try to check how much faster are operations processed using vectorization in comparison to the classic loop-based operations in this assignment.\n",
    "\n",
    "**After this assignment you will:**\n",
    "- Be conscious how vectorization accelerate computations using numpy library\n",
    "- Have fundamental knowledge of using numpy library functions and numpy matrix/vector operations\n",
    "- Understand the concept of \"broadcasting\"\n",
    "- Be able to vectorize code to achieve better performance of operations\n",
    "\n",
    "Let's get started!"
   ]
  },
  {
   "cell_type": "code",
   "execution_count": 1,
   "metadata": {},
   "outputs": [],
   "source": [
    "from clearml import Task"
   ]
  },
  {
   "cell_type": "code",
   "execution_count": null,
   "metadata": {},
   "outputs": [
    {
     "name": "stdout",
     "output_type": "stream",
     "text": [
      "ClearML Task: created new task id=6e3cf1b3ac4c4e97aed1ead3730235b0\n",
      "ClearML results page: http://20.54.188.124:80/projects/eaf394b98830476d84d93be52e06978d/experiments/6e3cf1b3ac4c4e97aed1ead3730235b0/output/log\n",
      "2021-03-23 09:34:21,390 - clearml.Task - INFO - Waiting for repository detection and full package requirement analysis\n",
      "2021-03-23 09:34:21,463 - clearml.Repository Detection - WARNING - Failed accessing the jupyter server: 404 Client Error: Not Found for url: http://0.0.0.0:8888/jupyter/hub/api/oauth2/authorize?client_id=jupyterhub-user-janek&redirect_uri=%2Fjupyter%2Fuser%2Fjanek%2Foauth_callback&response_type=code&state=eyJ1dWlkIjogImIyOTc5ZjMzMzNkNzRjZmNhMjRlZTYxZjRmNmU2Nzg4IiwgIm5leHRfdXJsIjogIi9qdXB5dGVyL3VzZXIvamFuZWsvYXBpL3Nlc3Npb25zIn0\n",
      "2021-03-23 09:34:21,615 - clearml.Task - INFO - Finished repository detection and package analysis\n",
      "2021-03-23 09:34:21,776 - clearml - WARNING - Terminating local execution process\n"
     ]
    }
   ],
   "source": [
    "task = Task.init('jhub', 'jhub with git test 2')\n",
    "task.execute_remotely()"
   ]
  },
  {
   "cell_type": "code",
   "execution_count": 1,
   "metadata": {},
   "outputs": [
    {
     "name": "stdout",
     "output_type": "stream",
     "text": [
      "dot_vec = 249646.19573187083\n",
      "Vectorized dot product computation time: 2.635955810546875ms\n",
      "\n",
      "dot_for = 249646.1957318662\n",
      "For-looped dot product computation time: 745.3939914703369ms\n",
      "\n",
      "The vectorized implementation is 282.7793958031838 times faster the loop-based implementation.\n"
     ]
    }
   ],
   "source": [
    "import numpy as np   # Import numpy library and use alias \"np\" instead of \"numpy\" to make the code shorter.\n",
    "import time          # Import time library to measure time of operations\n",
    "print(\"test\")\n",
    "a = np.random.rand(1000000) # Generate a vector consisting of 1000000 random numbers from a uniform distribution over [0, 1)\n",
    "b = np.random.rand(1000000) # Generate a vector consisting of 1000000 random numbers from a uniform distribution over [0, 1)\n",
    "\n",
    "vtic = time.time()         # Store the time when the computation is started\n",
    "dot_vec = np.dot(a,b)     # Compute the dot product of the above two vectors using the vectorized function np.dot\n",
    "vtoc = time.time()         # Store the time when the computation is finished\n",
    "print (\"dot_vec = \" + str(dot_vec))\n",
    "\n",
    "print(\"Vectorized dot product computation time: \" + str(1000 * (vtoc-vtic)) + \"ms\\n\")\n",
    "\n",
    "dot_for = 0\n",
    "ltic = time.time()         # Store the time when the computation is started\n",
    "for i in range(1000000):  # Compute the dot product of the above two vectors using the classic loop\n",
    "    dot_for += a[i]*b[i]\n",
    "ltoc = time.time()         # Store the time when the computation is finished\n",
    "print (\"dot_for = \" + str(dot_for))\n",
    "\n",
    "print(\"For-looped dot product computation time: \" + str(1000 * (ltoc-ltic)) + \"ms\\n\")\n",
    "\n",
    "### COMPARE VECTORIZED AND LOOP-BASED IMPLEMENTATIONS ###\n",
    "print (\"The vectorized implementation is \" + str((ltoc-ltic)/(vtoc-vtic)) + \" times faster the loop-based implementation.\")"
   ]
  },
  {
   "cell_type": "markdown",
   "metadata": {},
   "source": [
    "What is the difference between the vectorized and non-vectorized versions of this operation?"
   ]
  },
  {
   "cell_type": "markdown",
   "metadata": {},
   "source": [
    "Now, we focus on the small difference that distinguishes the definition of a list and a vector.\n",
    "Notice that lists cannot be transposed, whereas vectors can transposed."
   ]
  },
  {
   "cell_type": "code",
   "execution_count": 2,
   "metadata": {},
   "outputs": [
    {
     "name": "stdout",
     "output_type": "stream",
     "text": [
      "List of values:\n",
      "[-0.43236993 -0.65867936 -0.420887    1.26058941  0.07471862  0.11301377]\n",
      "(6,)\n",
      "[-0.43236993 -0.65867936 -0.420887    1.26058941  0.07471862  0.11301377]\n",
      "2.405388764317745\n",
      "Vector of values:\n",
      "[[ 0.49683185]\n",
      " [ 0.6213976 ]\n",
      " [-0.15230618]\n",
      " [ 0.66420251]\n",
      " [-1.17435026]\n",
      " [ 0.13359446]]\n",
      "(6, 1)\n",
      "[[ 0.49683185  0.6213976  -0.15230618  0.66420251 -1.17435026  0.13359446]]\n",
      "[[ 0.24684189  0.30873012 -0.07567056  0.32999696 -0.58345462  0.06637398]\n",
      " [ 0.30873012  0.38613498 -0.0946427   0.41273385 -0.72973844  0.08301527]\n",
      " [-0.07567056 -0.0946427   0.02319717 -0.10116215  0.17886081 -0.02034726]\n",
      " [ 0.32999696  0.41273385 -0.10116215  0.44116498 -0.78000639  0.08873377]\n",
      " [-0.58345462 -0.72973844  0.17886081 -0.78000639  1.37909854 -0.15688668]\n",
      " [ 0.06637398  0.08301527 -0.02034726  0.08873377 -0.15688668  0.01784748]]\n"
     ]
    }
   ],
   "source": [
    "import numpy as np\n",
    "\n",
    "print(\"List of values:\")\n",
    "a = np.random.randn(6)   # generates list of samples from the normal distribution in range [0, 1)\n",
    "print(a)\n",
    "print(a.shape)           # the shape suggest that a is a list\n",
    "print(a.T)               # the list cannot be transposed because it is not a vector or matrix!\n",
    "print(np.dot(a,a.T))     # what should it mean?!\n",
    "\n",
    "print(\"Vector of values:\")\n",
    "b = np.random.randn(6,1) # generates a vector (one-column matrix) of samples from the normal distribution\n",
    "print(b)\n",
    "print(b.shape)           # the shape suggest that b is a matrix (vector)\n",
    "print(b.T)               # the vector can be transposed\n",
    "print(np.dot(b,b.T))     # now we get a matrix as a result of multiplication of the vectors"
   ]
  },
  {
   "cell_type": "code",
   "execution_count": 3,
   "metadata": {},
   "outputs": [
    {
     "name": "stdout",
     "output_type": "stream",
     "text": [
      "We define matrices and vectors using (m, n) where m is a number of rows, and n is a number of columns:\n",
      "\n",
      "[[-0.1535463 ]\n",
      " [-0.2957405 ]\n",
      " [-0.76221853]\n",
      " [ 0.76496457]\n",
      " [-1.13372388]]\n",
      "... is a column-vector\n",
      "\n",
      "[[-1.59202725 -0.88312305  0.43632512 -0.30072669  0.84826458]]\n",
      "... is a row-vector\n"
     ]
    }
   ],
   "source": [
    "import numpy as np\n",
    "\n",
    "C=np.random.randn(5,1)  # generates a column-vector of samples from the normal distribution in range [0, 1)\n",
    "D=np.random.randn(1,5)  # generates a row-vector of samples from the normal distribution in range [0, 1)\n",
    "print(\"We define matrices and vectors using (m, n) where m is a number of rows, and n is a number of columns:\\n\")\n",
    "print(C)\n",
    "print(\"... is a column-vector\\n\")\n",
    "print(D)\n",
    "print(\"... is a row-vector\")"
   ]
  },
  {
   "cell_type": "code",
   "execution_count": 4,
   "metadata": {},
   "outputs": [
    {
     "name": "stdout",
     "output_type": "stream",
     "text": [
      "[ 0.91387436 -1.44334935 -0.89935717 -0.2363411   0.15483172]\n",
      "(5,)\n",
      "[[ 0.91387436]\n",
      " [-1.44334935]\n",
      " [-0.89935717]\n",
      " [-0.2363411 ]\n",
      " [ 0.15483172]]\n",
      "(5, 1)\n"
     ]
    }
   ],
   "source": [
    "import numpy as np\n",
    "\n",
    "a = np.random.randn(5)    # the list can be reshaped to create a vector\n",
    "print(a)\n",
    "print(a.shape)            # the shape function returns the shape of the structure \n",
    "a = a.reshape((5,1))\n",
    "print(a)\n",
    "print(a.shape)\n",
    "\n",
    "assert(a.shape == (5, 1)) # we can check whether the shape is correct and can continue computations"
   ]
  },
  {
   "cell_type": "code",
   "execution_count": 5,
   "metadata": {},
   "outputs": [
    {
     "name": "stdout",
     "output_type": "stream",
     "text": [
      "for-looped dot = 235\n",
      " ----- Computation time = 0.2900000000001235ms\n",
      "\n",
      "vectorized dot = 235\n",
      " ----- Computation time = 0.38800000000005497ms\n"
     ]
    }
   ],
   "source": [
    "import time\n",
    "\n",
    "x1 = [5, 1, 0, 3, 8, 2, 5, 6, 0, 1, 2, 5, 9, 0, 7]\n",
    "x2 = [2, 5, 2, 0, 3, 2, 2, 9, 1, 0, 2, 5, 4, 0, 9]\n",
    "\n",
    "### CLASSIC DOT PRODUCT OF VECTORS IMPLEMENTATION ###\n",
    "ltic = time.process_time()\n",
    "dot = 0\n",
    "for i in range(len(x1)):\n",
    "    dot+= x1[i] * x2[i]\n",
    "ltoc = time.process_time()\n",
    "print (\"for-looped dot = \" + str(dot) + \"\\n ----- Computation time = \" + str(1000*(ltoc - ltic)) + \"ms\\n\")\n",
    "\n",
    "### VECTORIZED DOT PRODUCT OF VECTORS ###\n",
    "vtic = time.process_time()\n",
    "dot = np.dot(x1,x2)\n",
    "vtoc = time.process_time()\n",
    "print (\"vectorized dot = \" + str(dot) + \"\\n ----- Computation time = \" + str(1000*(vtoc - vtic)) + \"ms\")"
   ]
  },
  {
   "cell_type": "code",
   "execution_count": 6,
   "metadata": {},
   "outputs": [
    {
     "name": "stdout",
     "output_type": "stream",
     "text": [
      "for-looped dot = 25000698.046254445\n",
      " ----- Computation time = 154460.65399999998ms\n",
      "\n",
      "vectorized dot = 25000698.04624013\n",
      " ----- Computation time = 416.64800000000923ms\n",
      "\n",
      "The vectorized implementation is 370.722177953564 times faster the loop-based implementation.\n"
     ]
    }
   ],
   "source": [
    "import time\n",
    "\n",
    "x1 = np.random.rand(100000000)\n",
    "x2 = np.random.rand(100000000)\n",
    "\n",
    "### CLASSIC DOT PRODUCT OF VECTORS IMPLEMENTATION ###\n",
    "ltic = time.process_time()\n",
    "dot = 0\n",
    "for i in range(len(x1)):\n",
    "    dot+= x1[i] * x2[i]\n",
    "ltoc = time.process_time()\n",
    "print (\"for-looped dot = \" + str(dot) + \"\\n ----- Computation time = \" + str(1000*(ltoc - ltic)) + \"ms\\n\")\n",
    "\n",
    "### VECTORIZED DOT PRODUCT OF VECTORS ###\n",
    "vtic = time.process_time()\n",
    "dot = np.dot(x1,x2)\n",
    "vtoc = time.process_time()\n",
    "print (\"vectorized dot = \" + str(dot) + \"\\n ----- Computation time = \" + str(1000*(vtoc - vtic)) + \"ms\\n\")\n",
    "\n",
    "### COMPARE VECTORIZED AND LOOP-BASED IMPLEMENTATIONS ###\n",
    "print (\"The vectorized implementation is \" + str((ltoc-ltic)/(vtoc-vtic)) + \" times faster the loop-based implementation.\")"
   ]
  },
  {
   "cell_type": "code",
   "execution_count": 7,
   "metadata": {},
   "outputs": [
    {
     "name": "stdout",
     "output_type": "stream",
     "text": [
      "for-looped outer = [[10. 25. 10.  0. 15. 10. 10. 45.  5.  0. 10. 25. 20.  0. 45.]\n",
      " [ 2.  5.  2.  0.  3.  2.  2.  9.  1.  0.  2.  5.  4.  0.  9.]\n",
      " [ 0.  0.  0.  0.  0.  0.  0.  0.  0.  0.  0.  0.  0.  0.  0.]\n",
      " [ 6. 15.  6.  0.  9.  6.  6. 27.  3.  0.  6. 15. 12.  0. 27.]\n",
      " [16. 40. 16.  0. 24. 16. 16. 72.  8.  0. 16. 40. 32.  0. 72.]\n",
      " [ 4. 10.  4.  0.  6.  4.  4. 18.  2.  0.  4. 10.  8.  0. 18.]\n",
      " [10. 25. 10.  0. 15. 10. 10. 45.  5.  0. 10. 25. 20.  0. 45.]\n",
      " [12. 30. 12.  0. 18. 12. 12. 54.  6.  0. 12. 30. 24.  0. 54.]\n",
      " [ 0.  0.  0.  0.  0.  0.  0.  0.  0.  0.  0.  0.  0.  0.  0.]\n",
      " [ 2.  5.  2.  0.  3.  2.  2.  9.  1.  0.  2.  5.  4.  0.  9.]\n",
      " [ 4. 10.  4.  0.  6.  4.  4. 18.  2.  0.  4. 10.  8.  0. 18.]\n",
      " [10. 25. 10.  0. 15. 10. 10. 45.  5.  0. 10. 25. 20.  0. 45.]\n",
      " [18. 45. 18.  0. 27. 18. 18. 81.  9.  0. 18. 45. 36.  0. 81.]\n",
      " [ 0.  0.  0.  0.  0.  0.  0.  0.  0.  0.  0.  0.  0.  0.  0.]\n",
      " [14. 35. 14.  0. 21. 14. 14. 63.  7.  0. 14. 35. 28.  0. 63.]]\n",
      " ----- Computation time = 0.6159999999795218ms\n",
      "\n",
      "vectorized outer = [[10 25 10  0 15 10 10 45  5  0 10 25 20  0 45]\n",
      " [ 2  5  2  0  3  2  2  9  1  0  2  5  4  0  9]\n",
      " [ 0  0  0  0  0  0  0  0  0  0  0  0  0  0  0]\n",
      " [ 6 15  6  0  9  6  6 27  3  0  6 15 12  0 27]\n",
      " [16 40 16  0 24 16 16 72  8  0 16 40 32  0 72]\n",
      " [ 4 10  4  0  6  4  4 18  2  0  4 10  8  0 18]\n",
      " [10 25 10  0 15 10 10 45  5  0 10 25 20  0 45]\n",
      " [12 30 12  0 18 12 12 54  6  0 12 30 24  0 54]\n",
      " [ 0  0  0  0  0  0  0  0  0  0  0  0  0  0  0]\n",
      " [ 2  5  2  0  3  2  2  9  1  0  2  5  4  0  9]\n",
      " [ 4 10  4  0  6  4  4 18  2  0  4 10  8  0 18]\n",
      " [10 25 10  0 15 10 10 45  5  0 10 25 20  0 45]\n",
      " [18 45 18  0 27 18 18 81  9  0 18 45 36  0 81]\n",
      " [ 0  0  0  0  0  0  0  0  0  0  0  0  0  0  0]\n",
      " [14 35 14  0 21 14 14 63  7  0 14 35 28  0 63]]\n",
      " ----- Computation time = 0.5380000000059226ms\n"
     ]
    }
   ],
   "source": [
    "import time\n",
    "\n",
    "x1 = [5, 1, 0, 3, 8, 2, 5, 6, 0, 1, 2, 5, 9, 0, 7]\n",
    "x2 = [2, 5, 2, 0, 3, 2, 2, 9, 1, 0, 2, 5, 4, 0, 9]\n",
    "\n",
    "### CLASSIC OUTER PRODUCT IMPLEMENTATION ###\n",
    "ltic = time.process_time()\n",
    "outer = np.zeros((len(x1),len(x2))) # we create a len(x1)*len(x2) matrix with only zeros\n",
    "for i in range(len(x1)):\n",
    "    for j in range(len(x2)):\n",
    "        outer[i,j] = x1[i] * x2[j]\n",
    "ltoc = time.process_time()\n",
    "print (\"for-looped outer = \" + str(outer) + \"\\n ----- Computation time = \" + str(1000*(ltoc - ltic)) + \"ms\\n\")\n",
    "\n",
    "### VECTORIZED OUTER PRODUCT ###\n",
    "vtic = time.process_time()\n",
    "outer = np.outer(x1,x2)\n",
    "vtoc = time.process_time()\n",
    "print (\"vectorized outer = \" + str(outer) + \"\\n ----- Computation time = \" + str(1000*(vtoc - vtic)) + \"ms\")"
   ]
  },
  {
   "cell_type": "code",
   "execution_count": 8,
   "metadata": {},
   "outputs": [
    {
     "name": "stdout",
     "output_type": "stream",
     "text": [
      "Computation time of the for-looped outer product = 6423.577999999992ms\n",
      "\n",
      "Computation time of the vectorized outer product = 26.929999999993015ms\n",
      "\n",
      "The vectorized implementation is 238.5287040475922 times faster the loop-based implementation.\n"
     ]
    }
   ],
   "source": [
    "import time\n",
    "\n",
    "x1 = np.random.rand(2000)\n",
    "x2 = np.random.rand(2000)\n",
    "\n",
    "### CLASSIC OUTER PRODUCT IMPLEMENTATION ###\n",
    "ltic = time.process_time()\n",
    "outer = np.zeros((len(x1),len(x2))) # we create a len(x1)*len(x2) matrix with only zeros\n",
    "for i in range(len(x1)):\n",
    "    for j in range(len(x2)):\n",
    "        outer[i,j] = x1[i] * x2[j]\n",
    "ltoc = time.process_time()\n",
    "print (\"Computation time of the for-looped outer product = \" + str(1000*(ltoc - ltic)) + \"ms\\n\")\n",
    "\n",
    "### VECTORIZED OUTER PRODUCT ###\n",
    "vtic = time.process_time()\n",
    "outer = np.outer(x1,x2)\n",
    "vtoc = time.process_time()\n",
    "print (\"Computation time of the vectorized outer product = \" + str(1000*(vtoc - vtic)) + \"ms\\n\")\n",
    "\n",
    "### COMPARE VECTORIZED AND LOOP-BASED IMPLEMENTATIONS ###\n",
    "print (\"The vectorized implementation is \" + str((ltoc-ltic)/(vtoc-vtic)) + \" times faster the loop-based implementation.\")"
   ]
  },
  {
   "cell_type": "code",
   "execution_count": 9,
   "metadata": {},
   "outputs": [
    {
     "name": "stdout",
     "output_type": "stream",
     "text": [
      "for-looped elementwise multiplication = [10.  5.  0.  0. 24.  4. 10. 54.  0.  0.  4. 25. 36.  0. 63.]\n",
      " -- Computation time = 0.0ms\n",
      "\n",
      "vectorized elementwise multiplication = [10  5  0  0 24  4 10 54  0  0  4 25 36  0 63]\n",
      " -- Computation time = 0.0ms\n",
      "\n"
     ]
    }
   ],
   "source": [
    "import time\n",
    "\n",
    "x1 = [5, 1, 0, 3, 8, 2, 5, 6, 0, 1, 2, 5, 9, 0, 7]\n",
    "x2 = [2, 5, 2, 0, 3, 2, 2, 9, 1, 0, 2, 5, 4, 0, 9]\n",
    "\n",
    "### CLASSIC ELEMENTWISE IMPLEMENTATION ###\n",
    "ltic = time.process_time()\n",
    "mul = np.zeros(len(x1))\n",
    "for i in range(len(x1)):\n",
    "    mul[i] = x1[i] * x2[i]\n",
    "ltoc = time.process_time()\n",
    "print (\"for-looped elementwise multiplication = \" + str(mul) + \"\\n -- Computation time = \" + str(1000*(ltoc-ltic)) + \"ms\\n\")\n",
    "\n",
    "### VECTORIZED ELEMENTWISE MULTIPLICATION ###\n",
    "vtic = time.process_time()\n",
    "mul = np.multiply(x1,x2)\n",
    "vtoc = time.process_time()\n",
    "print (\"vectorized elementwise multiplication = \" + str(mul) + \"\\n -- Computation time = \" + str(1000*(vtoc-vtic)) + \"ms\\n\")"
   ]
  },
  {
   "cell_type": "code",
   "execution_count": 9,
   "metadata": {},
   "outputs": [
    {
     "name": "stdout",
     "output_type": "stream",
     "text": [
      "for-looped elementwise multiplication = [0.66348001 0.16807259 0.53696384 ... 0.0412303  0.133277   0.4877795 ]\n",
      " -- Computation time = 14321.769999999986ms\n",
      "\n",
      "vectorized elementwise multiplication = [0.66348001 0.16807259 0.53696384 ... 0.0412303  0.133277   0.4877795 ]\n",
      " -- Computation time = 60.31999999999016ms\n",
      "\n",
      "The vectorized implementation is 237.42987400534355 times faster the loop-based implementation.\n"
     ]
    }
   ],
   "source": [
    "import time\n",
    "\n",
    "x1 = np.random.rand(10000000)\n",
    "x2 = np.random.rand(10000000)\n",
    "\n",
    "### CLASSIC ELEMENTWISE IMPLEMENTATION ###\n",
    "ltic = time.process_time()\n",
    "mul = np.zeros(len(x1))\n",
    "for i in range(len(x1)):\n",
    "    mul[i] = x1[i] * x2[i]\n",
    "ltoc = time.process_time()\n",
    "print (\"for-looped elementwise multiplication = \" + str(mul) + \"\\n -- Computation time = \" + str(1000*(ltoc-ltic)) + \"ms\\n\")\n",
    "\n",
    "### VECTORIZED ELEMENTWISE MULTIPLICATION ###\n",
    "vtic = time.process_time()\n",
    "mul = np.multiply(x1,x2)\n",
    "vtoc = time.process_time()\n",
    "print (\"vectorized elementwise multiplication = \" + str(mul) + \"\\n -- Computation time = \" + str(1000*(vtoc-vtic)) + \"ms\\n\")\n",
    "\n",
    "### COMPARE VECTORIZED AND LOOP-BASED IMPLEMENTATIONS ###\n",
    "print (\"The vectorized implementation is \" + str((ltoc-ltic)/(vtoc-vtic)) + \" times faster the loop-based implementation.\")"
   ]
  },
  {
   "cell_type": "code",
   "execution_count": 10,
   "metadata": {},
   "outputs": [
    {
     "name": "stdout",
     "output_type": "stream",
     "text": [
      "for-looped gdot = [23.41846324 37.29901079 33.79428552]\n",
      " ----- Computation time = 0.48799999999005195ms\n",
      "\n",
      "vectorized gdot = [23.41846324 37.29901079 33.79428552]\n",
      " ----- Computation time = 1.936000000000604ms\n"
     ]
    }
   ],
   "source": [
    "import time\n",
    "\n",
    "x1 = [5, 1, 0, 3, 8, 2, 5, 6, 0, 1, 2, 5, 9, 0, 7]\n",
    "\n",
    "### CLASSIC GENERAL DOT PRODUCT IMPLEMENTATION ###\n",
    "W = np.random.rand(3,len(x1)) # Random 3*len(x1) numpy array\n",
    "ltic = time.process_time()\n",
    "gdot = np.zeros(W.shape[0])\n",
    "for i in range(W.shape[0]):\n",
    "    for j in range(len(x1)):\n",
    "        gdot[i] += W[i,j] * x1[j]\n",
    "ltoc = time.process_time()\n",
    "print (\"for-looped gdot = \" + str(gdot) + \"\\n ----- Computation time = \" + str(1000*(ltoc - ltic)) + \"ms\\n\")\n",
    "\n",
    "### VECTORIZED GENERAL DOT PRODUCT ###\n",
    "vtic = time.process_time()\n",
    "gdot = np.dot(W,x1)\n",
    "vtoc = time.process_time()\n",
    "print (\"vectorized gdot = \" + str(gdot) + \"\\n ----- Computation time = \" + str(1000*(vtoc - vtic)) + \"ms\")"
   ]
  },
  {
   "cell_type": "code",
   "execution_count": 12,
   "metadata": {},
   "outputs": [
    {
     "name": "stdout",
     "output_type": "stream",
     "text": [
      "for-looped gdot = [500437.37503957 500588.65822974 499997.37729725 500431.96677249\n",
      " 499990.57606129 500101.13619234 500440.12059663 499942.05914268\n",
      " 500172.0930138  500390.68438827 500448.98426112 500097.82552791\n",
      " 499998.0396671  499742.41071095 500061.37584791 500397.58645545\n",
      " 500078.11552049 500198.59793205 500271.19178775 500528.01391101\n",
      " 500336.90809614 500269.9702921  500297.29997051 500053.67258239\n",
      " 500211.98801755 500208.28556697 500396.42538635 499823.80758932\n",
      " 500409.58407897 500245.64277862]\n",
      " ----- Computation time = 27515.625ms\n",
      "\n",
      "vectorized gdot = [500437.37503957 500588.65822974 499997.37729725 500431.96677249\n",
      " 499990.57606129 500101.13619234 500440.12059663 499942.05914268\n",
      " 500172.0930138  500390.68438827 500448.98426112 500097.82552791\n",
      " 499998.0396671  499742.41071095 500061.37584791 500397.58645545\n",
      " 500078.11552049 500198.59793205 500271.19178775 500528.01391101\n",
      " 500336.90809614 500269.9702921  500297.29997051 500053.67258239\n",
      " 500211.98801755 500208.28556697 500396.42538635 499823.80758932\n",
      " 500409.58407897 500245.64277862]\n",
      " ----- Computation time = 62.5ms\n",
      "\n",
      "The vectorized implementation is 440.25 times faster the loop-based implementation.\n"
     ]
    }
   ],
   "source": [
    "import time\n",
    "\n",
    "x1 = np.random.rand(2000000)\n",
    "\n",
    "### CLASSIC GENERAL DOT PRODUCT IMPLEMENTATION ###\n",
    "W = np.random.rand(30,len(x1)) # Random 10*len(x1) numpy array\n",
    "ltic = time.process_time()\n",
    "gdot = np.zeros(W.shape[0])\n",
    "for i in range(W.shape[0]):\n",
    "    for j in range(len(x1)):\n",
    "        gdot[i] += W[i,j] * x1[j]\n",
    "ltoc = time.process_time()\n",
    "print (\"for-looped gdot = \" + str(gdot) + \"\\n ----- Computation time = \" + str(1000*(ltoc - ltic)) + \"ms\\n\")\n",
    "\n",
    "### VECTORIZED GENERAL DOT PRODUCT ###\n",
    "vtic = time.process_time()\n",
    "vgdot = np.dot(W,x1)\n",
    "vtoc = time.process_time()\n",
    "print (\"vectorized gdot = \" + str(gdot) + \"\\n ----- Computation time = \" + str(1000*(vtoc - vtic)) + \"ms\\n\")\n",
    "\n",
    "### COMPARE VECTORIZED AND LOOP-BASED IMPLEMENTATIONS ###\n",
    "print (\"The vectorized implementation is \" + str((ltoc-ltic)/(vtoc-vtic)) + \" times faster the loop-based implementation.\")"
   ]
  },
  {
   "cell_type": "markdown",
   "metadata": {},
   "source": [
    "# Python Broadcasting is shown on the addition of a matrix and a vector.\n",
    "\n",
    "**Write a code:**\n",
    "- First, the transposed vector b is broadcasted over the rows of the matrix A\n",
    "- Second, the vector b is broadcasted over the rows of the transposed matrix A\n",
    "- Read [broadcasting documentation](http://docs.scipy.org/doc/numpy/user/basics.broadcasting.html)"
   ]
  },
  {
   "cell_type": "code",
   "execution_count": 18,
   "metadata": {},
   "outputs": [
    {
     "name": "stdout",
     "output_type": "stream",
     "text": [
      "A = [[-0.69146698 -1.00407449 -1.17002022 -0.54720112  0.2725857   0.36188234]\n",
      " [ 0.94055063  0.40151944 -1.53609868  0.98313012 -1.14942301 -0.9764585 ]\n",
      " [-0.4398725   1.29403465 -0.57294572  0.12110486  1.34163127  1.46686881]]\n",
      "\n",
      "A.T = [[-0.69146698  0.94055063 -0.4398725 ]\n",
      " [-1.00407449  0.40151944  1.29403465]\n",
      " [-1.17002022 -1.53609868 -0.57294572]\n",
      " [-0.54720112  0.98313012  0.12110486]\n",
      " [ 0.2725857  -1.14942301  1.34163127]\n",
      " [ 0.36188234 -0.9764585   1.46686881]]\n",
      "\n",
      "b = [[-0.69587528]\n",
      " [ 0.72487031]\n",
      " [-0.10024606]\n",
      " [-0.74431228]\n",
      " [ 2.42925773]\n",
      " [ 0.20146459]]\n",
      "\n",
      "b.T = [[-0.69587528  0.72487031 -0.10024606 -0.74431228  2.42925773  0.20146459]]\n",
      "\n",
      "A + b.T = [[-1.38734226 -0.27920418 -1.27026627 -1.29151341  2.70184343  0.56334693]\n",
      " [ 0.24467535  1.12638975 -1.63634473  0.23881784  1.27983472 -0.77499391]\n",
      " [-1.13574778  2.01890496 -0.67319178 -0.62320743  3.77088899  1.6683334 ]]\n",
      "\n",
      "A.T + b = [[-1.38734226  0.24467535 -1.13574778]\n",
      " [-0.27920418  1.12638975  2.01890496]\n",
      " [-1.27026627 -1.63634473 -0.67319178]\n",
      " [-1.29151341  0.23881784 -0.62320743]\n",
      " [ 2.70184343  1.27983472  3.77088899]\n",
      " [ 0.56334693 -0.77499391  1.6683334 ]]\n"
     ]
    }
   ],
   "source": [
    "import numpy as np\n",
    "\n",
    "A = np.random.randn(3,6)   # Definition of the random matrix of 3 rows and 6 columns\n",
    "b = np.random.randn(6,1)   # Definition of the random row-vector of 6 columns\n",
    "\n",
    "print (\"A = \" + str(A) + \"\\n\")\n",
    "print (\"A.T = \" + str(A.T) + \"\\n\")\n",
    "print (\"b = \" + str(b) + \"\\n\")\n",
    "print (\"b.T = \" + str(b.T) + \"\\n\")\n",
    "print (\"A + b.T = \" + str(A + b.T) + \"\\n\")\n",
    "print (\"A.T + b = \" + str(A.T + b))"
   ]
  },
  {
   "cell_type": "markdown",
   "metadata": {},
   "source": [
    "# Reshaping arrays of a given shape\n",
    "\n",
    "**We commonly use two numpy functions in deep learning to retrieve shape (dimension) ([np.shape](https://docs.scipy.org/doc/numpy/reference/generated/numpy.ndarray.shape.html)) or to reshape (change dimension) ([np.reshape()](https://docs.scipy.org/doc/numpy/reference/generated/numpy.reshape.html)) arrays (matrices/vectors):**\n",
    "\n",
    "For example, when the 2D images (reprezented by 3D arrays of shape $(length, height, depth = 3)$) are processed we usually convert (\"unroll\") them to 1D vectors of shape $(length*height*3, 1)$:\n",
    "\n",
    "We implement `image2vector()` that takes an input of shape (length, height, 3) and returns a vector of shape (length\\*height\\*3, 1):\n",
    "``` python\n",
    "v = v.reshape((v.shape[0]*v.shape[1]*v.shape[2])) # v.shape[0] = length; v.shape[1] = height; v.shape[2] = rgbcomponents\n",
    "```"
   ]
  },
  {
   "cell_type": "code",
   "execution_count": 15,
   "metadata": {},
   "outputs": [],
   "source": [
    "def image2vector(image):\n",
    "    v = image.reshape((image.shape[0]*image.shape[1]*image.shape[2]),1)\n",
    "    return v"
   ]
  },
  {
   "cell_type": "code",
   "execution_count": 17,
   "metadata": {},
   "outputs": [
    {
     "name": "stdout",
     "output_type": "stream",
     "text": [
      "image2vector(image) = [[11]\n",
      " [12]\n",
      " [13]\n",
      " [14]\n",
      " [15]\n",
      " [16]\n",
      " [17]\n",
      " [18]\n",
      " [21]\n",
      " [22]\n",
      " [23]\n",
      " [24]\n",
      " [25]\n",
      " [26]\n",
      " [27]\n",
      " [28]\n",
      " [31]\n",
      " [32]\n",
      " [33]\n",
      " [34]\n",
      " [35]\n",
      " [36]\n",
      " [37]\n",
      " [38]\n",
      " [41]\n",
      " [42]\n",
      " [43]\n",
      " [44]\n",
      " [45]\n",
      " [46]\n",
      " [47]\n",
      " [48]\n",
      " [51]\n",
      " [52]\n",
      " [53]\n",
      " [54]\n",
      " [55]\n",
      " [56]\n",
      " [57]\n",
      " [58]\n",
      " [61]\n",
      " [62]\n",
      " [63]\n",
      " [64]\n",
      " [65]\n",
      " [66]\n",
      " [67]\n",
      " [68]]\n"
     ]
    }
   ],
   "source": [
    "# Let's have a 4 by 4 by 3 array representing a simple image (num_px_x, num_px_y, 3) where 3 represents the RGB values\n",
    "image = np.array(\n",
    "      [[[ 11, 12, 13, 14 ],\n",
    "        [ 15, 16, 17, 18 ],\n",
    "        [ 21, 22, 23, 24 ],\n",
    "        [ 25, 26, 27, 28 ]],\n",
    "\n",
    "       [[ 31, 32, 33, 34 ],\n",
    "        [ 35, 36, 37, 38 ],\n",
    "        [ 41, 42, 43, 44 ],\n",
    "        [ 45, 46, 47, 48 ]],\n",
    "\n",
    "       [[ 51, 52, 53, 54 ],\n",
    "        [ 55, 56, 57, 58 ],\n",
    "        [ 61, 62, 63, 64 ],\n",
    "        [ 65, 66, 67, 68 ]]])\n",
    "\n",
    "print (\"image2vector(image) = \" + str(image2vector(image)))"
   ]
  },
  {
   "cell_type": "markdown",
   "metadata": {},
   "source": [
    "# Conversion of a list to a vector\n",
    "\n",
    "**In order to use the elements of the list in vector operations, we need to convert a list to a vector:**"
   ]
  },
  {
   "cell_type": "code",
   "execution_count": 5,
   "metadata": {},
   "outputs": [
    {
     "name": "stdout",
     "output_type": "stream",
     "text": [
      "[1, 2, 3, 4, 5, 6, 7, 8, 9]\n",
      "(9,)\n",
      "[11, 12, 13, 14, 15, 16, 17, 18, 19]\n",
      "(9,)\n",
      "[[1]\n",
      " [2]\n",
      " [3]\n",
      " [4]\n",
      " [5]\n",
      " [6]\n",
      " [7]\n",
      " [8]\n",
      " [9]]\n",
      "(9, 1)\n",
      "[[11]\n",
      " [12]\n",
      " [13]\n",
      " [14]\n",
      " [15]\n",
      " [16]\n",
      " [17]\n",
      " [18]\n",
      " [19]]\n",
      "(9, 1)\n",
      "[[1 2 3 4 5 6 7 8 9]]\n",
      "(1, 9)\n",
      "[[11 12 13 14 15 16 17 18 19]]\n",
      "(1, 9)\n"
     ]
    }
   ],
   "source": [
    "import numpy as np   # Import numpy library and use alias \"np\" instead of \"numpy\" to make the code shorter.\n",
    "\n",
    "v1 = [1, 2, 3, 4, 5, 6, 7, 8, 9]\n",
    "v2 = [11, 12, 13, 14, 15, 16, 17, 18, 19]\n",
    "print(v1)\n",
    "print (np.shape(v1))\n",
    "print(v2)\n",
    "print (np.shape(v2))\n",
    "\n",
    "v1 = np.array(v1).reshape(len(v1),1)\n",
    "v2 = np.array(v2).reshape(len(v2),1)\n",
    "print(v1)\n",
    "print (np.shape(v1))\n",
    "print(v2)\n",
    "print (np.shape(v2))\n",
    "print (v1.T)\n",
    "print (np.shape(v1.T))\n",
    "print(v2.T)\n",
    "print (np.shape(v2.T))"
   ]
  },
  {
   "cell_type": "code",
   "execution_count": null,
   "metadata": {},
   "outputs": [],
   "source": []
  }
 ],
 "metadata": {
  "kernelspec": {
   "display_name": "Python 3",
   "language": "python",
   "name": "python3"
  },
  "language_info": {
   "codemirror_mode": {
    "name": "ipython",
    "version": 3
   },
   "file_extension": ".py",
   "mimetype": "text/x-python",
   "name": "python",
   "nbconvert_exporter": "python",
   "pygments_lexer": "ipython3",
   "version": "3.8.8"
  }
 },
 "nbformat": 4,
 "nbformat_minor": 4
}
