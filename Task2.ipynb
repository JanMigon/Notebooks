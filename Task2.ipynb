{
 "cells": [
  {
   "cell_type": "code",
   "execution_count": 12,
   "metadata": {},
   "outputs": [
    {
     "data": {
      "text/plain": [
       "'2.3.1'"
      ]
     },
     "execution_count": 12,
     "metadata": {},
     "output_type": "execute_result"
    }
   ],
   "source": [
    "import numpy as np\n",
    "import keras\n",
    "\n",
    "from keras import layers\n",
    "from keras import models\n",
    "from keras.datasets import mnist\n",
    "from keras.utils import to_categorical\n",
    "from sklearn.utils import shuffle\n",
    "\n",
    "from keras.callbacks import ModelCheckpoint\n",
    "from sklearn.metrics import classification_report, confusion_matrix\n",
    "\n",
    "keras.__version__"
   ]
  },
  {
   "cell_type": "code",
   "execution_count": 13,
   "metadata": {},
   "outputs": [],
   "source": [
    "model = models.Sequential()\n",
    "model.add(layers.Conv2D(32, (3, 3), activation='relu', padding = 'same',input_shape=(28, 28, 1)))\n",
    "model.add(layers.MaxPooling2D((2, 2)))\n",
    "model.add(layers.Conv2D(64, (3, 3), padding = 'same',activation='relu'))\n",
    "model.add(layers.MaxPooling2D((2, 2)))\n",
    "model.add(layers.Conv2D(64, (3, 3), padding = 'same',activation='relu'))\n",
    "\n",
    "# In the last but one convolutional layer I use filter size which reduces the output to (None,1,1,Num of filters) \n",
    "# See model summary to check that the filter size must be (7,7)\n",
    "model.add(layers.Conv2D(128, (7,7),activation='relu'))\n",
    "\n",
    "# in the last convolutional layer use the filter size (1,1) and the number of filters equal to the number of classes. Activation should be 'softmax'\n",
    "model.add(layers.Conv2D(10, (1,1),activation='softmax'))\n",
    "\n",
    "# The layer output shape is (None,1,1,10) so I flatten it to (None,10) - I reduce redundant internal dimensions \n",
    "model.add(layers.Flatten())"
   ]
  },
  {
   "cell_type": "code",
   "execution_count": 14,
   "metadata": {},
   "outputs": [
    {
     "name": "stdout",
     "output_type": "stream",
     "text": [
      "Model: \"sequential_3\"\n",
      "_________________________________________________________________\n",
      "Layer (type)                 Output Shape              Param #   \n",
      "=================================================================\n",
      "conv2d_11 (Conv2D)           (None, 28, 28, 32)        320       \n",
      "_________________________________________________________________\n",
      "max_pooling2d_5 (MaxPooling2 (None, 14, 14, 32)        0         \n",
      "_________________________________________________________________\n",
      "conv2d_12 (Conv2D)           (None, 14, 14, 64)        18496     \n",
      "_________________________________________________________________\n",
      "max_pooling2d_6 (MaxPooling2 (None, 7, 7, 64)          0         \n",
      "_________________________________________________________________\n",
      "conv2d_13 (Conv2D)           (None, 7, 7, 64)          36928     \n",
      "_________________________________________________________________\n",
      "conv2d_14 (Conv2D)           (None, 1, 1, 128)         401536    \n",
      "_________________________________________________________________\n",
      "conv2d_15 (Conv2D)           (None, 1, 1, 10)          1290      \n",
      "_________________________________________________________________\n",
      "flatten_3 (Flatten)          (None, 10)                0         \n",
      "=================================================================\n",
      "Total params: 458,570\n",
      "Trainable params: 458,570\n",
      "Non-trainable params: 0\n",
      "_________________________________________________________________\n"
     ]
    }
   ],
   "source": [
    "model.summary()\n",
    "\n",
    "# Check the shape of the last layer output - the train_labels must fit this shape exactly!"
   ]
  },
  {
   "cell_type": "code",
   "execution_count": 19,
   "metadata": {},
   "outputs": [],
   "source": [
    "\n",
    "(train_images, train_labels), (test_images, test_labels) = mnist.load_data()\n",
    "\n",
    "train_images = train_images.reshape((60000, 28, 28, 1))\n",
    "train_images = train_images.astype('float32') / 255\n",
    "\n",
    "test_images = test_images.reshape((10000, 28, 28, 1))\n",
    "test_images = test_images.astype('float32') / 255\n",
    "\n",
    "train_labels = to_categorical(train_labels)\n",
    "test_labels = to_categorical(test_labels)\n"
   ]
  },
  {
   "cell_type": "code",
   "execution_count": 20,
   "metadata": {},
   "outputs": [
    {
     "name": "stdout",
     "output_type": "stream",
     "text": [
      "Train on 48000 samples, validate on 12000 samples\n",
      "Epoch 1/5\n",
      "48000/48000 [==============================] - 60s 1ms/step - loss: 0.0126 - accuracy: 0.9968 - val_loss: 0.0148 - val_accuracy: 0.9956\n",
      "\n",
      "Epoch 00001: val_loss improved from inf to 0.01480, saving model to model.h5\n",
      "Epoch 2/5\n",
      "48000/48000 [==============================] - 59s 1ms/step - loss: 0.0070 - accuracy: 0.9978 - val_loss: 0.0171 - val_accuracy: 0.9962\n",
      "\n",
      "Epoch 00002: val_loss did not improve from 0.01480\n",
      "Epoch 3/5\n",
      "48000/48000 [==============================] - 62s 1ms/step - loss: 0.0062 - accuracy: 0.9984 - val_loss: 0.0194 - val_accuracy: 0.9957\n",
      "\n",
      "Epoch 00003: val_loss did not improve from 0.01480\n",
      "Epoch 4/5\n",
      "48000/48000 [==============================] - 62s 1ms/step - loss: 0.0053 - accuracy: 0.9986 - val_loss: 0.0173 - val_accuracy: 0.9955\n",
      "\n",
      "Epoch 00004: val_loss did not improve from 0.01480\n",
      "Epoch 5/5\n",
      "48000/48000 [==============================] - 63s 1ms/step - loss: 0.0052 - accuracy: 0.9987 - val_loss: 0.0228 - val_accuracy: 0.9956\n",
      "\n",
      "Epoch 00005: val_loss did not improve from 0.01480\n",
      "Train on 48000 samples, validate on 12000 samples\n",
      "Epoch 1/5\n",
      "48000/48000 [==============================] - 73s 2ms/step - loss: 0.0076 - accuracy: 0.9980 - val_loss: 0.0017 - val_accuracy: 0.9995\n",
      "\n",
      "Epoch 00001: val_loss improved from 0.01480 to 0.00175, saving model to model.h5\n",
      "Epoch 2/5\n",
      "48000/48000 [==============================] - 65s 1ms/step - loss: 0.0073 - accuracy: 0.9984 - val_loss: 0.0054 - val_accuracy: 0.9985\n",
      "\n",
      "Epoch 00002: val_loss did not improve from 0.00175\n",
      "Epoch 3/5\n",
      "48000/48000 [==============================] - 66s 1ms/step - loss: 0.0055 - accuracy: 0.9987 - val_loss: 0.0037 - val_accuracy: 0.9989\n",
      "\n",
      "Epoch 00003: val_loss did not improve from 0.00175\n",
      "Epoch 4/5\n",
      "48000/48000 [==============================] - 63s 1ms/step - loss: 0.0040 - accuracy: 0.9990 - val_loss: 0.0061 - val_accuracy: 0.9982\n",
      "\n",
      "Epoch 00004: val_loss did not improve from 0.00175\n",
      "Epoch 5/5\n",
      "48000/48000 [==============================] - 61s 1ms/step - loss: 0.0038 - accuracy: 0.9991 - val_loss: 0.0028 - val_accuracy: 0.9993\n",
      "\n",
      "Epoch 00005: val_loss did not improve from 0.00175\n",
      "Train on 48000 samples, validate on 12000 samples\n",
      "Epoch 1/5\n",
      "48000/48000 [==============================] - 60s 1ms/step - loss: 0.0036 - accuracy: 0.9990 - val_loss: 0.0022 - val_accuracy: 0.9996\n",
      "\n",
      "Epoch 00001: val_loss did not improve from 0.00175\n",
      "Epoch 2/5\n",
      "48000/48000 [==============================] - 60s 1ms/step - loss: 0.0040 - accuracy: 0.9992 - val_loss: 0.0029 - val_accuracy: 0.9996\n",
      "\n",
      "Epoch 00002: val_loss did not improve from 0.00175\n",
      "Epoch 3/5\n",
      "48000/48000 [==============================] - 60s 1ms/step - loss: 0.0028 - accuracy: 0.9993 - val_loss: 0.0039 - val_accuracy: 0.9993\n",
      "\n",
      "Epoch 00003: val_loss did not improve from 0.00175\n",
      "Epoch 4/5\n",
      "48000/48000 [==============================] - 61s 1ms/step - loss: 0.0031 - accuracy: 0.9993 - val_loss: 0.0075 - val_accuracy: 0.9987\n",
      "\n",
      "Epoch 00004: val_loss did not improve from 0.00175\n",
      "Epoch 5/5\n",
      "48000/48000 [==============================] - 57s 1ms/step - loss: 0.0021 - accuracy: 0.9994 - val_loss: 0.0093 - val_accuracy: 0.9985\n",
      "\n",
      "Epoch 00005: val_loss did not improve from 0.00175\n",
      "Train on 48000 samples, validate on 12000 samples\n",
      "Epoch 1/5\n",
      "48000/48000 [==============================] - 58s 1ms/step - loss: 0.0059 - accuracy: 0.9990 - val_loss: 9.5507e-04 - val_accuracy: 0.9996\n",
      "\n",
      "Epoch 00001: val_loss improved from 0.00175 to 0.00096, saving model to model.h5\n",
      "Epoch 2/5\n",
      "48000/48000 [==============================] - 58s 1ms/step - loss: 0.0039 - accuracy: 0.9994 - val_loss: 0.0134 - val_accuracy: 0.9968\n",
      "\n",
      "Epoch 00002: val_loss did not improve from 0.00096\n",
      "Epoch 3/5\n",
      "48000/48000 [==============================] - 64s 1ms/step - loss: 0.0026 - accuracy: 0.9995 - val_loss: 0.0045 - val_accuracy: 0.9987\n",
      "\n",
      "Epoch 00003: val_loss did not improve from 0.00096\n",
      "Epoch 4/5\n",
      "48000/48000 [==============================] - 66s 1ms/step - loss: 0.0031 - accuracy: 0.9994 - val_loss: 0.0044 - val_accuracy: 0.9993\n",
      "\n",
      "Epoch 00004: val_loss did not improve from 0.00096\n",
      "Epoch 5/5\n",
      "48000/48000 [==============================] - 63s 1ms/step - loss: 0.0027 - accuracy: 0.9995 - val_loss: 0.0069 - val_accuracy: 0.9987\n",
      "\n",
      "Epoch 00005: val_loss did not improve from 0.00096\n",
      "Train on 48000 samples, validate on 12000 samples\n",
      "Epoch 1/5\n",
      "48000/48000 [==============================] - 59s 1ms/step - loss: 0.0035 - accuracy: 0.9993 - val_loss: 3.9712e-04 - val_accuracy: 0.9998\n",
      "\n",
      "Epoch 00001: val_loss improved from 0.00096 to 0.00040, saving model to model.h5\n",
      "Epoch 2/5\n",
      "48000/48000 [==============================] - 59s 1ms/step - loss: 0.0037 - accuracy: 0.9994 - val_loss: 0.0032 - val_accuracy: 0.9994\n",
      "\n",
      "Epoch 00002: val_loss did not improve from 0.00040\n",
      "Epoch 3/5\n",
      "48000/48000 [==============================] - 59s 1ms/step - loss: 0.0029 - accuracy: 0.9995 - val_loss: 0.0055 - val_accuracy: 0.9985\n",
      "\n",
      "Epoch 00003: val_loss did not improve from 0.00040\n",
      "Epoch 4/5\n",
      "48000/48000 [==============================] - 65s 1ms/step - loss: 0.0038 - accuracy: 0.9994 - val_loss: 0.0025 - val_accuracy: 0.9995\n",
      "\n",
      "Epoch 00004: val_loss did not improve from 0.00040\n",
      "Epoch 5/5\n",
      "48000/48000 [==============================] - 59s 1ms/step - loss: 0.0024 - accuracy: 0.9996 - val_loss: 0.0018 - val_accuracy: 0.9998\n",
      "\n",
      "Epoch 00005: val_loss did not improve from 0.00040\n"
     ]
    }
   ],
   "source": [
    "\n",
    "checkpoint = ModelCheckpoint(\n",
    "    'model.h5', \n",
    "    verbose=1, \n",
    "    monitor='val_loss', \n",
    "    save_best_only=True\n",
    ")\n",
    "\n",
    "model.compile(optimizer='rmsprop',\n",
    "              loss='categorical_crossentropy',\n",
    "              metrics=['accuracy'])\n",
    "\n",
    "# shuffle the data before k fold validation\n",
    "train_images, train_labels = shuffle(train_images, train_labels)\n",
    "k = 5  # k is the number of cross-validations\n",
    "fold_len = len(train_labels) // k  # fold_len is the number of images with its labels in one fold\n",
    "\n",
    "all_metrics = []\n",
    "for i in range(k):\n",
    "    x_val = train_images[i * fold_len: (i + 1) * fold_len]\n",
    "    y_val = train_labels[i * fold_len: (i + 1) * fold_len]\n",
    "    \n",
    "    x_train = np.concatenate([train_images[:i * fold_len], train_images[(i + 1) * fold_len:]], axis=0)\n",
    "    y_train = np.concatenate([train_labels[:i * fold_len], train_labels[(i + 1) * fold_len:]], axis=0)\n",
    "    \n",
    "    history = model.fit(x_train, y_train, epochs=5, batch_size=64, validation_data=(x_val, y_val), callbacks = [checkpoint])\n",
    "    mae = history.history['val_accuracy']\n",
    "    all_metrics.append(mae)\n",
    "    "
   ]
  },
  {
   "cell_type": "code",
   "execution_count": 22,
   "metadata": {},
   "outputs": [],
   "source": [
    "mean_accuracies = [np.mean(x) for x in all_metrics]"
   ]
  },
  {
   "cell_type": "code",
   "execution_count": 26,
   "metadata": {},
   "outputs": [
    {
     "data": {
      "text/plain": [
       "Text(0, 0.5, 'accuracy')"
      ]
     },
     "execution_count": 26,
     "metadata": {},
     "output_type": "execute_result"
    },
    {
     "data": {
      "image/png": "[encoded data removed]",
      "text/plain": [
       "<Figure size 432x288 with 1 Axes>"
      ]
     },
     "metadata": {
      "needs_background": "light"
     },
     "output_type": "display_data"
    }
   ],
   "source": [
    "import matplotlib.pyplot as plt\n",
    "\n",
    "plt.plot([1,2,3,4,5], mean_accuracies)\n",
    "plt.xlabel(\"epoch\")\n",
    "plt.ylabel(\"accuracy\")"
   ]
  },
  {
   "cell_type": "code",
   "execution_count": 27,
   "metadata": {},
   "outputs": [
    {
     "name": "stdout",
     "output_type": "stream",
     "text": [
      "10000/10000 [==============================] - 3s 287us/step\n",
      "0.07294191011781541 0.9926000237464905\n",
      "[[ 975    1    0    0    0    1    2    0    0    1]\n",
      " [   0 1134    0    0    0    0    1    0    0    0]\n",
      " [   0    0 1027    0    0    0    2    3    0    0]\n",
      " [   0    1    0 1005    0    3    0    0    0    1]\n",
      " [   0    0    0    0  972    0    1    0    0    9]\n",
      " [   0    0    0    5    0  886    1    0    0    0]\n",
      " [   1    1    0    0    0    4  950    0    2    0]\n",
      " [   0    5    2    1    0    0    0 1017    1    2]\n",
      " [   2    0    2    2    0    0    0    0  965    3]\n",
      " [   0    1    0    0    5    5    0    2    1  995]]\n",
      "              precision    recall  f1-score   support\n",
      "\n",
      "           0       1.00      0.99      1.00       980\n",
      "           1       0.99      1.00      1.00      1135\n",
      "           2       1.00      1.00      1.00      1032\n",
      "           3       0.99      1.00      0.99      1010\n",
      "           4       0.99      0.99      0.99       982\n",
      "           5       0.99      0.99      0.99       892\n",
      "           6       0.99      0.99      0.99       958\n",
      "           7       1.00      0.99      0.99      1028\n",
      "           8       1.00      0.99      0.99       974\n",
      "           9       0.98      0.99      0.99      1009\n",
      "\n",
      "    accuracy                           0.99     10000\n",
      "   macro avg       0.99      0.99      0.99     10000\n",
      "weighted avg       0.99      0.99      0.99     10000\n",
      "\n"
     ]
    }
   ],
   "source": [
    "test_loss, test_acc = model.evaluate(test_images, test_labels)\n",
    "print(test_loss,test_acc)\n",
    "\n",
    "predictions = np.argmax(model.predict(test_images), -1)\n",
    "true_labels = np.argmax(test_labels, -1)\n",
    "\n",
    "cm = confusion_matrix(true_labels, predictions)\n",
    "print(cm)\n",
    "print(classification_report(true_labels, predictions))\n"
   ]
  },
  {
   "cell_type": "code",
   "execution_count": null,
   "metadata": {},
   "outputs": [],
   "source": []
  }
 ],
 "metadata": {
  "kernelspec": {
   "display_name": "Python 3",
   "language": "python",
   "name": "python3"
  },
  "language_info": {
   "codemirror_mode": {
    "name": "ipython",
    "version": 3
   },
   "file_extension": ".py",
   "mimetype": "text/x-python",
   "name": "python",
   "nbconvert_exporter": "python",
   "pygments_lexer": "ipython3",
   "version": "3.7.2"
  }
 },
 "nbformat": 4,
 "nbformat_minor": 4
}
