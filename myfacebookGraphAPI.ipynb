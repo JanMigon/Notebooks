{
 "cells": [
  {
   "cell_type": "code",
   "execution_count": 1,
   "metadata": {},
   "outputs": [],
   "source": [
    "import facebook\n",
    "import urllib3\n",
    "import requests\n",
    "import time\n",
    "import json\n",
    "import numpy as np\n",
    "import pandas as pd"
   ]
  },
  {
   "cell_type": "code",
   "execution_count": 2,
   "metadata": {},
   "outputs": [],
   "source": [
    "###token=####\n",
    "###app_id=\"####\"\n",
    "###app_secret=\"####\"\n",
    "def get_new_access_token(app_id,app_secret,access_token):\n",
    "    refresh_token_url = 'https://graph.facebook.com/v3.3/'+ \\\n",
    "                        'oauth/access_token?' + \\\n",
    "                        'grant_type=fb_exchange_token&' + \\\n",
    "                        'client_id=' + app_id + '&' + \\\n",
    "                        'client_secret=' + app_secret + '&' + \\\n",
    "                        'fb_exchange_token=' + access_token\n",
    "    new_access_token = requests.get(refresh_token_url)\n",
    "    return json.loads(new_access_token.text)['access_token']\n",
    "#new_token=get_new_access_token(app_id,app_secret,token)\n"
   ]
  },
  {
   "cell_type": "code",
   "execution_count": 3,
   "metadata": {},
   "outputs": [
    {
     "data": {
      "text/plain": [
       "{'name': 'Janek Migoń', 'id': '2353662771386373'}"
      ]
     },
     "execution_count": 3,
     "metadata": {},
     "output_type": "execute_result"
    }
   ],
   "source": [
    "\n",
    "info = requests.get(\"https://graph.facebook.com/v3.3/me?access_token=\"+token)\n",
    "info.json()\n",
    "\n",
    "\n",
    "#uid=info.json()['id']\n"
   ]
  },
  {
   "cell_type": "code",
   "execution_count": 44,
   "metadata": {},
   "outputs": [
    {
     "data": {
      "text/plain": [
       "{'error': {'message': \"(#10) To use 'Page Public Content Access', your use of this endpoint must be reviewed and approved by Facebook. To submit this 'Page Public Content Access' feature for review please read our documentation on reviewable features: https://developers.facebook.com/docs/apps/review.\",\n",
       "  'type': 'OAuthException',\n",
       "  'code': 10,\n",
       "  'fbtrace_id': 'AtcrsY58UDNeyiRKe3JxM1F'}}"
      ]
     },
     "execution_count": 44,
     "metadata": {},
     "output_type": "execute_result"
    }
   ],
   "source": [
    "info_page=requests.get(\"https://graph.facebook.com/v3.3/KsiegarniaMuzycznaKURANT?access_token=\"+token)\n",
    "info_page.json()"
   ]
  },
  {
   "cell_type": "code",
   "execution_count": 42,
   "metadata": {},
   "outputs": [
    {
     "data": {
      "text/plain": [
       "{'name': 'Janek Migoń', 'id': '2353662771386373'}"
      ]
     },
     "execution_count": 42,
     "metadata": {},
     "output_type": "execute_result"
    }
   ],
   "source": [
    "info.json()"
   ]
  },
  {
   "cell_type": "code",
   "execution_count": 9,
   "metadata": {},
   "outputs": [
    {
     "data": {
      "text/plain": [
       "{'data': [{'message': 'Nie jestem taki mądry na jakiego wyglądam',\n",
       "   'created_time': '2019-02-02T01:22:51+0000',\n",
       "   'id': '2353662771386373_2111215068964479'},\n",
       "  {'created_time': '2018-11-30T16:53:56+0000',\n",
       "   'id': '2353662771386373_2022049887880998'},\n",
       "  {'story': 'IAESTE Poland dodał(a) nowe zdjęcie — z: Oskar Chocian i 7 innymi użytkownikami w: Tunezja.',\n",
       "   'created_time': '2018-08-23T16:28:22+0000',\n",
       "   'id': '2353662771386373_1904025326350122'},\n",
       "  {'message': \"50 days of 'Oui Slim', TGM and way too much hairssa ☀️\",\n",
       "   'created_time': '2018-07-17T13:14:43+0000',\n",
       "   'id': '2353662771386373_1833338140085508'}],\n",
       " 'paging': {'previous': 'https://graph.facebook.com/v3.3/2353662771386373/feed?since=1549070571&access_token=EAAFzZCIclgfYBAEXcEtuosZAZCh9DI8kKDpZCqHFLSV1WK2dkbNrRXBQTGaGGZCfenZAymgU7eFKxEFxVotQGzfpsErYA8vUVzldYVol5ZAOV2X87PKcYZCvl8lHNRa1i6ZAXTPXIxaZCeirLNn3L8C6uyjVor2jshMTQHqXWGa123iQZDZD&limit=25&__paging_token=enc_AdAJHT5ozHoH6wuFWnGl7iNoLKl2jv5vTZChGe44ZCVdtA1kZA3E3EvTvT2cCn6IIfAzcC62Qu7sBxJUy3EuF1YnuV3KQ62uE0P6dlYkGVsJ1SrCwZDZD&__previous=1',\n",
       "  'next': 'https://graph.facebook.com/v3.3/2353662771386373/feed?since=2018-07-17&access_token=EAAFzZCIclgfYBAEXcEtuosZAZCh9DI8kKDpZCqHFLSV1WK2dkbNrRXBQTGaGGZCfenZAymgU7eFKxEFxVotQGzfpsErYA8vUVzldYVol5ZAOV2X87PKcYZCvl8lHNRa1i6ZAXTPXIxaZCeirLNn3L8C6uyjVor2jshMTQHqXWGa123iQZDZD&limit=25&until=1531833283&__paging_token=enc_AdDTfRZCJtgOZAkK1TU2NtcNJl9hyLQY7xsJ7juuRZBXD8tifyBZC24syNyUQIZC3QAPzUrDX5j247J0dvH8izwvZAuUYyjUzdjjRdZBGwS3YezX35HsAZDZD'}}"
      ]
     },
     "execution_count": 9,
     "metadata": {},
     "output_type": "execute_result"
    }
   ],
   "source": [
    "#get info from \"me\" page\n",
    "post=requests.get(\"https://graph.facebook.com/v3.3/me/feed?access_token=\"+token)\n",
    "posts=post.json()\n",
    "id=posts['data'][0]['id']\n",
    "#to read more data, in this example only one-page data so result will be an empty dict\n",
    "\n",
    "recent_posts=requests.get(\"https://graph.facebook.com/v3.3/me/feed?since=2018-07-17&access_token=\"+token)\n",
    "\n",
    "recent_posts.json()\n"
   ]
  },
  {
   "cell_type": "code",
   "execution_count": 17,
   "metadata": {},
   "outputs": [
    {
     "data": {
      "text/plain": [
       "{'created_time': '2019-02-02T01:22:51+0000',\n",
       " 'message': 'Nie jestem taki mądry na jakiego wyglądam',\n",
       " 'id': '2353662771386373_2111215068964479'}"
      ]
     },
     "execution_count": 17,
     "metadata": {},
     "output_type": "execute_result"
    }
   ],
   "source": [
    "one_post=requests.get(\"https://graph.facebook.com/v3.3/\"+id+\"?access_token=\"+token)\n",
    "one_post.json()"
   ]
  },
  {
   "cell_type": "code",
   "execution_count": 18,
   "metadata": {},
   "outputs": [],
   "source": [
    "#get all the photos info\n",
    "photos=requests.get(\"https://graph.facebook.com/v3.3/me/photos?access_token=\"+token)\n"
   ]
  },
  {
   "cell_type": "code",
   "execution_count": 118,
   "metadata": {},
   "outputs": [
    {
     "data": {
      "text/plain": [
       "[{'from': {'name': 'Janek Migoń', 'id': '2353662771386373'},\n",
       "  'id': '2353662771386373_2111215068964479'},\n",
       " {'from': {'name': 'Janek Migoń', 'id': '2353662771386373'},\n",
       "  'id': '2353662771386373_2022049887880998'},\n",
       " {'from': {'name': 'Janek Migoń', 'id': '2353662771386373'},\n",
       "  'id': '2353662771386373_970197493066248'},\n",
       " {'from': {'name': 'Janek Migoń', 'id': '2353662771386373'},\n",
       "  'id': '2353662771386373_584123615006973'},\n",
       " {'from': {'name': 'Janek Migoń', 'id': '2353662771386373'},\n",
       "  'id': '2353662771386373_127986923953003'},\n",
       " {'from': {'name': 'Janek Migoń', 'id': '2353662771386373'},\n",
       "  'id': '2353662771386373_213048215406283'},\n",
       " {'from': {'name': 'Janek Migoń', 'id': '2353662771386373'},\n",
       "  'id': '2353662771386373_158246654247788'},\n",
       " {'from': {'name': 'Janek Migoń', 'id': '2353662771386373'},\n",
       "  'id': '2353662771386373_227238313975389'},\n",
       " {'from': {'name': 'Janek Migoń', 'id': '2353662771386373'},\n",
       "  'id': '2353662771386373_217505081615461'}]"
      ]
     },
     "execution_count": 118,
     "metadata": {},
     "output_type": "execute_result"
    }
   ],
   "source": [
    "#get only the posts a user (me) posted approach one\n",
    "\n",
    "params={'access_token':token,'fields':['from']}\n",
    "all_posts=requests.get('https://graph.facebook.com/v3.3/me/feed',params=params)\n",
    "all_posts=all_posts.json()['data']\n",
    "#my_posts=[post['from'] for post in all_posts]\n",
    "#my_posts=all_posts[all_posts['from']['id']==uid]\n",
    "my_posts=[]\n",
    "for post in all_posts:\n",
    "    if post.get('from'):\n",
    "        if post['from']['id']==uid:\n",
    "            my_posts.append(post)\n",
    "    else:\n",
    "        pass\n",
    "my_posts"
   ]
  },
  {
   "cell_type": "code",
   "execution_count": 10,
   "metadata": {},
   "outputs": [
    {
     "data": {
      "text/html": [
       "<div>\n",
       "<style scoped>\n",
       "    .dataframe tbody tr th:only-of-type {\n",
       "        vertical-align: middle;\n",
       "    }\n",
       "\n",
       "    .dataframe tbody tr th {\n",
       "        vertical-align: top;\n",
       "    }\n",
       "\n",
       "    .dataframe thead th {\n",
       "        text-align: right;\n",
       "    }\n",
       "</style>\n",
       "<table border=\"1\" class=\"dataframe\">\n",
       "  <thead>\n",
       "    <tr style=\"text-align: right;\">\n",
       "      <th></th>\n",
       "      <th>message</th>\n",
       "      <th>comments</th>\n",
       "    </tr>\n",
       "  </thead>\n",
       "  <tbody>\n",
       "    <tr>\n",
       "      <th>0</th>\n",
       "      <td>czesc janek jakie to smieszne kiedy mail jest ...</td>\n",
       "      <td>bbb</td>\n",
       "    </tr>\n",
       "    <tr>\n",
       "      <th>1</th>\n",
       "      <td>haha  Marek Bosak Ola Sokół Bartosz Gniadek Ma...</td>\n",
       "      <td>aaa</td>\n",
       "    </tr>\n",
       "    <tr>\n",
       "      <th>2</th>\n",
       "      <td>Marek Bosak Ola Sokół Bartosz Gniadek Maria S...</td>\n",
       "      <td>a</td>\n",
       "    </tr>\n",
       "    <tr>\n",
       "      <th>3</th>\n",
       "      <td>hilarious  Marek Bosak Ola Sokół Bartosz Gniad...</td>\n",
       "      <td>qq</td>\n",
       "    </tr>\n",
       "    <tr>\n",
       "      <th>4</th>\n",
       "      <td>Marek Bosak Ola Sokół Bartosz Gniadek Maria S...</td>\n",
       "      <td>ee</td>\n",
       "    </tr>\n",
       "    <tr>\n",
       "      <th>5</th>\n",
       "      <td>http://www.youtube.com/watch?v=ODrEjtqo9oM</td>\n",
       "      <td>rr</td>\n",
       "    </tr>\n",
       "    <tr>\n",
       "      <th>6</th>\n",
       "      <td>NaN</td>\n",
       "      <td>ttt</td>\n",
       "    </tr>\n",
       "  </tbody>\n",
       "</table>\n",
       "</div>"
      ],
      "text/plain": [
       "                                             message comments\n",
       "0  czesc janek jakie to smieszne kiedy mail jest ...      bbb\n",
       "1  haha  Marek Bosak Ola Sokół Bartosz Gniadek Ma...      aaa\n",
       "2   Marek Bosak Ola Sokół Bartosz Gniadek Maria S...        a\n",
       "3  hilarious  Marek Bosak Ola Sokół Bartosz Gniad...       qq\n",
       "4   Marek Bosak Ola Sokół Bartosz Gniadek Maria S...       ee\n",
       "5         http://www.youtube.com/watch?v=ODrEjtqo9oM       rr\n",
       "6                                                NaN      ttt"
      ]
     },
     "execution_count": 10,
     "metadata": {},
     "output_type": "execute_result"
    }
   ],
   "source": [
    "#getting only the posts a user (me) posted approach 2 fast\n",
    "\n",
    "params={'access_token':token,'since':'2011-01-01','until':'2019-01-01'}\n",
    "my_posts=requests.get('https://graph.facebook.com/v3.3/me/posts',params=params)\n",
    "my_posts=my_posts.json()['data']\n",
    "\n",
    "my_posts_text=[x['message'] for x in my_posts if x.get('message')]\n",
    "df=pd.DataFrame(my_posts_text,columns=['message'])\n",
    "comments=['bbb','aaa','a','qq','ee','rr','ttt']\n",
    "new=pd.concat([df,pd.DataFrame(comments,columns=['comments'])],axis=1,ignore_index=False)\n",
    "new"
   ]
  },
  {
   "cell_type": "code",
   "execution_count": 153,
   "metadata": {},
   "outputs": [
    {
     "data": {
      "text/plain": [
       "[{'from': {'name': 'Janek Migoń', 'id': '2353662771386373'},\n",
       "  'id': '2353662771386373_2111215068964479'},\n",
       " {'from': {'name': 'Janek Migoń', 'id': '2353662771386373'},\n",
       "  'id': '2353662771386373_2022049887880998'},\n",
       " {'from': {'name': 'IAESTE Poland', 'id': '179798818707679'},\n",
       "  'id': '2353662771386373_1904025326350122'},\n",
       " {'id': '2353662771386373_1833338140085508'},\n",
       " {'from': {'name': 'Księgarnia Muzyczna \"Kurant\"', 'id': '106073856124517'},\n",
       "  'id': '2353662771386373_1607701255982532'},\n",
       " {'from': {'name': 'IAESTE AGH', 'id': '124653054307186'},\n",
       "  'id': '2353662771386373_1605200462899278'},\n",
       " {'from': {'name': 'IAESTE AGH', 'id': '124653054307186'},\n",
       "  'id': '2353662771386373_1589370791148912'},\n",
       " {'from': {'name': '96 Szczep Niger', 'id': '193262322231'},\n",
       "  'id': '2353662771386373_1388446277908032'},\n",
       " {'id': '2353662771386373_970198966399434'},\n",
       " {'id': '2353662771386373_970197559732908'},\n",
       " {'from': {'name': 'Janek Migoń', 'id': '2353662771386373'},\n",
       "  'id': '2353662771386373_970197493066248'},\n",
       " {'id': '2353662771386373_970198079732856'},\n",
       " {'id': '2353662771386373_970197356399595'},\n",
       " {'from': {'name': '96 AKDH Połoniny im.K.K.Baczyńskiego',\n",
       "   'id': '339508986140489'},\n",
       "  'id': '2353662771386373_889369664482365'},\n",
       " {'from': {'name': '96 AKDH Połoniny im.K.K.Baczyńskiego',\n",
       "   'id': '339508986140489'},\n",
       "  'id': '339508986140489_859009374190445'},\n",
       " {'from': {'name': 'Janek Migoń', 'id': '2353662771386373'},\n",
       "  'id': '2353662771386373_584123615006973'},\n",
       " {'from': {'name': 'Janek Migoń', 'id': '2353662771386373'},\n",
       "  'id': '2353662771386373_127986923953003'},\n",
       " {'from': {'name': 'Janek Migoń', 'id': '2353662771386373'},\n",
       "  'id': '2353662771386373_213048215406283'},\n",
       " {'from': {'name': 'Janek Migoń', 'id': '2353662771386373'},\n",
       "  'id': '2353662771386373_158246654247788'},\n",
       " {'from': {'name': 'Janek Migoń', 'id': '2353662771386373'},\n",
       "  'id': '2353662771386373_227238313975389'},\n",
       " {'from': {'name': 'Janek Migoń', 'id': '2353662771386373'},\n",
       "  'id': '2353662771386373_217505081615461'}]"
      ]
     },
     "execution_count": 153,
     "metadata": {},
     "output_type": "execute_result"
    }
   ],
   "source": [
    "# unfortunately deprecated\n",
    "#my_activities=requests.get('https://graph.facebook.com/v3.3/me/activities?access_token='+token)\n",
    "#my_activities.json()\n",
    "all_posts"
   ]
  },
  {
   "cell_type": "code",
   "execution_count": 75,
   "metadata": {},
   "outputs": [
    {
     "data": {
      "text/html": [
       "<div>\n",
       "<style scoped>\n",
       "    .dataframe tbody tr th:only-of-type {\n",
       "        vertical-align: middle;\n",
       "    }\n",
       "\n",
       "    .dataframe tbody tr th {\n",
       "        vertical-align: top;\n",
       "    }\n",
       "\n",
       "    .dataframe thead th {\n",
       "        text-align: right;\n",
       "    }\n",
       "</style>\n",
       "<table border=\"1\" class=\"dataframe\">\n",
       "  <thead>\n",
       "    <tr style=\"text-align: right;\">\n",
       "      <th></th>\n",
       "      <th>comment</th>\n",
       "    </tr>\n",
       "  </thead>\n",
       "  <tbody>\n",
       "    <tr>\n",
       "      <th>0</th>\n",
       "      <td>Oskar Agnieszka Diana Jovana Justyna Josef Jan...</td>\n",
       "    </tr>\n",
       "    <tr>\n",
       "      <th>1</th>\n",
       "      <td>radosnych Swiąt🤩</td>\n",
       "    </tr>\n",
       "    <tr>\n",
       "      <th>2</th>\n",
       "      <td>Moi Kochani księgarnia muzyczna w sylwestrową ...</td>\n",
       "    </tr>\n",
       "    <tr>\n",
       "      <th>3</th>\n",
       "      <td>Wszystkiego co najpiękniejsze</td>\n",
       "    </tr>\n",
       "    <tr>\n",
       "      <th>4</th>\n",
       "      <td>serdeczne życzenia szczęśliwego nowego roku</td>\n",
       "    </tr>\n",
       "    <tr>\n",
       "      <th>5</th>\n",
       "      <td>Dziękujemy! &lt;3</td>\n",
       "    </tr>\n",
       "    <tr>\n",
       "      <th>6</th>\n",
       "      <td>wróciliśmy i w Polsce pojaśniało, przypadek? ;)</td>\n",
       "    </tr>\n",
       "    <tr>\n",
       "      <th>7</th>\n",
       "      <td>Trafili w 10  w Krakowie  pogoda tak nie rozpi...</td>\n",
       "    </tr>\n",
       "  </tbody>\n",
       "</table>\n",
       "</div>"
      ],
      "text/plain": [
       "                                             comment\n",
       "0  Oskar Agnieszka Diana Jovana Justyna Josef Jan...\n",
       "1                                   radosnych Swiąt🤩\n",
       "2  Moi Kochani księgarnia muzyczna w sylwestrową ...\n",
       "3                      Wszystkiego co najpiękniejsze\n",
       "4        serdeczne życzenia szczęśliwego nowego roku\n",
       "5                                     Dziękujemy! <3\n",
       "6    wróciliśmy i w Polsce pojaśniało, przypadek? ;)\n",
       "7  Trafili w 10  w Krakowie  pogoda tak nie rozpi..."
      ]
     },
     "execution_count": 75,
     "metadata": {},
     "output_type": "execute_result"
    }
   ],
   "source": [
    "\n",
    "params={'access_token':token}\n",
    "all_posts=requests.get('https://graph.facebook.com/v3.3/me/feed',params=params)\n",
    "\n",
    "comments_text=[]\n",
    "for post in all_posts.json()['data']:\n",
    "    post_id=post['id']\n",
    "    all_comments=requests.get('https://graph.facebook.com/v3.3/'+post_id+'/comments',params=params)\n",
    "    \n",
    "    try:\n",
    "        all_comments=all_comments.json()['data']\n",
    "        comments_text+=[x['message'] for x in all_comments if x.get('message')]\n",
    "    except KeyError:\n",
    "        pass\n",
    "    comment_messages=pd.DataFrame(comments_text,columns=['comment'])\n",
    "\n",
    "comment_messages\n",
    "    "
   ]
  },
  {
   "cell_type": "code",
   "execution_count": 71,
   "metadata": {},
   "outputs": [
    {
     "data": {
      "text/plain": [
       "[]"
      ]
     },
     "execution_count": 71,
     "metadata": {},
     "output_type": "execute_result"
    }
   ],
   "source": [
    "comments_text=[x['message'] for x in all_comments if x.get('message')]\n",
    "comments_text"
   ]
  },
  {
   "cell_type": "code",
   "execution_count": 160,
   "metadata": {},
   "outputs": [
    {
     "data": {
      "text/plain": [
       "{'data': []}"
      ]
     },
     "execution_count": 160,
     "metadata": {},
     "output_type": "execute_result"
    }
   ],
   "source": [
    "request=all_posts.json()['paging']['next']\n",
    "previous_posts=requests.get(request)\n",
    "previous_posts.json()"
   ]
  },
  {
   "cell_type": "code",
   "execution_count": 162,
   "metadata": {},
   "outputs": [
    {
     "data": {
      "text/plain": [
       "{'data': [{'message': 'Nie jestem taki mądry na jakiego wyglądam',\n",
       "   'created_time': '2019-02-02T01:22:51+0000',\n",
       "   'id': '2353662771386373_2111215068964479'},\n",
       "  {'created_time': '2018-11-30T16:53:56+0000',\n",
       "   'id': '2353662771386373_2022049887880998'},\n",
       "  {'story': 'IAESTE Poland added a new photo — with Oskar Chocian and 7 others in Tunisia.',\n",
       "   'created_time': '2018-08-23T16:28:22+0000',\n",
       "   'id': '2353662771386373_1904025326350122'},\n",
       "  {'message': \"50 days of 'Oui Slim', TGM and way too much hairssa ☀️\",\n",
       "   'created_time': '2018-07-17T13:14:43+0000',\n",
       "   'id': '2353662771386373_1833338140085508'},\n",
       "  {'message': 'Na radosny czas Bożego Narodzenia, życzymy Wam rzeczy najprostszych:\\n\\nZDROWIA - krzepkiego i rumianego\\nSZCZĘŚCIA - takiego, co daje spokój i szczery uśmiech\\nPOMYŚLNOŚCI - we wszystkim, czego dotkniecie\\n\\nA do tego ŚPIEWU, GRANIA I WSPÓLNEGO KURANTOWANIA!\\n\\nPozdrowienia od całego naszego Zespołu (choć nie cały jest na zdjęciu) :)\\n\\nPS: godziny otwarcia w Święta: \\n24.12 - 9:00-14:00\\n25.12 i 26.12 NIECZYNNE\\n27.12 9:00-19:00',\n",
       "   'story': 'Księgarnia Muzyczna \"Kurant\" is with Mateusz Mirota and 7 others at Księgarnia Muzyczna \"Kurant\".',\n",
       "   'created_time': '2017-12-23T11:52:48+0000',\n",
       "   'id': '2353662771386373_1607701255982532'},\n",
       "  {'story': 'IAESTE AGH added a new photo — with Damian Maduzia and 6 others.',\n",
       "   'created_time': '2017-12-20T19:28:25+0000',\n",
       "   'id': '2353662771386373_1605200462899278'},\n",
       "  {'message': \"Po raz kolejny wspieramy akcję Dzień Dawcy Szpiku - AGH w Krakowie - Helpers' Generation AGH przeciw białaczce. Przez cały tydzień możecie dołączyć do bazy potencjalnych Dawców szpiku na stoiskach rozstawionych na kampusie AGH oraz MS. Bądźmy razem w walce przeciwko białaczce! 😊🙌\",\n",
       "   'story': 'IAESTE AGH is with Anna Janiec and 13 others.',\n",
       "   'created_time': '2017-12-04T13:25:58+0000',\n",
       "   'id': '2353662771386373_1589370791148912'},\n",
       "  {'message': 'Instruktorzy Hufca Kraków-Śródmieście pozdrawiają z pięknej Grecji i ślą dużo słońca! ☀️',\n",
       "   'story': '96 Szczep Niger is with Maciek Okapa and 9 others.',\n",
       "   'created_time': '2017-05-05T15:20:58+0000',\n",
       "   'id': '2353662771386373_1388446277908032'},\n",
       "  {'created_time': '2016-01-09T19:08:28+0000',\n",
       "   'id': '2353662771386373_970198966399434'},\n",
       "  {'created_time': '2016-01-09T19:06:53+0000',\n",
       "   'id': '2353662771386373_970197559732908'},\n",
       "  {'created_time': '2016-01-09T19:06:42+0000',\n",
       "   'id': '2353662771386373_970197493066248'},\n",
       "  {'created_time': '2016-01-09T19:06:29+0000',\n",
       "   'id': '2353662771386373_970198079732856'},\n",
       "  {'created_time': '2016-01-09T19:06:24+0000',\n",
       "   'id': '2353662771386373_970197356399595'},\n",
       "  {'message': 'Zrząd Stoczni i Blok Wschodni',\n",
       "   'story': '96 AKDH Połoniny im.K.K.Baczyńskiego is with Paweł Stępień and 7 others.',\n",
       "   'created_time': '2015-08-01T14:06:16+0000',\n",
       "   'id': '2353662771386373_889369664482365'},\n",
       "  {'story': '96 AKDH Połoniny im.K.K.Baczyńskiego added a new photo — with Paweł Stępień and 4 others.',\n",
       "   'created_time': '2015-08-01T14:05:51+0000',\n",
       "   'id': '339508986140489_859009374190445'},\n",
       "  {'message': 'czesc janek jakie to smieszne kiedy mail jest powiazany z facebookiem:D post tylko ty widzisz nie martw sie',\n",
       "   'created_time': '2013-12-31T11:15:36+0000',\n",
       "   'id': '2353662771386373_584123615006973'},\n",
       "  {'message': 'haha  Marek Bosak Ola Sokół Bartosz Gniadek Maria Sabała Dorota Kołos',\n",
       "   'created_time': '2011-07-04T12:02:45+0000',\n",
       "   'id': '2353662771386373_127986923953003'},\n",
       "  {'message': ' Marek Bosak Ola Sokół Bartosz Gniadek Maria Sabała Dorota Kołos haha',\n",
       "   'created_time': '2011-07-04T12:02:28+0000',\n",
       "   'id': '2353662771386373_213048215406283'},\n",
       "  {'message': 'hilarious  Marek Bosak Ola Sokół Bartosz Gniadek Maria Sabała Dorota Kołos',\n",
       "   'created_time': '2011-07-04T12:02:09+0000',\n",
       "   'id': '2353662771386373_158246654247788'},\n",
       "  {'message': ' Marek Bosak Ola Sokół Bartosz Gniadek Maria Sabała Dorota Kołos ',\n",
       "   'created_time': '2011-07-04T12:01:46+0000',\n",
       "   'id': '2353662771386373_227238313975389'},\n",
       "  {'message': 'http://www.youtube.com/watch?v=ODrEjtqo9oM',\n",
       "   'created_time': '2011-06-13T18:50:11+0000',\n",
       "   'id': '2353662771386373_217505081615461'}],\n",
       " 'paging': {'previous': 'https://graph.facebook.com/v3.3/2353662771386373/feed?since=1549070571&access_token=EAAFzZCIclgfYBAEXcEtuosZAZCh9DI8kKDpZCqHFLSV1WK2dkbNrRXBQTGaGGZCfenZAymgU7eFKxEFxVotQGzfpsErYA8vUVzldYVol5ZAOV2X87PKcYZCvl8lHNRa1i6ZAXTPXIxaZCeirLNn3L8C6uyjVor2jshMTQHqXWGa123iQZDZD&limit=25&__paging_token=enc_AdAJHT5ozHoH6wuFWnGl7iNoLKl2jv5vTZChGe44ZCVdtA1kZA3E3EvTvT2cCn6IIfAzcC62Qu7sBxJUy3EuF1YnuV3KQ62uE0P6dlYkGVsJ1SrCwZDZD&__previous=1',\n",
       "  'next': 'https://graph.facebook.com/v3.3/2353662771386373/feed?access_token=EAAFzZCIclgfYBAEXcEtuosZAZCh9DI8kKDpZCqHFLSV1WK2dkbNrRXBQTGaGGZCfenZAymgU7eFKxEFxVotQGzfpsErYA8vUVzldYVol5ZAOV2X87PKcYZCvl8lHNRa1i6ZAXTPXIxaZCeirLNn3L8C6uyjVor2jshMTQHqXWGa123iQZDZD&limit=25&until=1307991011&__paging_token=enc_AdAbjzMyvKEKbHQGcaL67WqF3eE7sAkXldam7pLP6pGteNNLcFYr34AfwFKPydKM9KdC51ALjvqAkzXPVsLhofTBD5EBCRjYBNxLZB23ZB3IzCYwZDZD'}}"
      ]
     },
     "execution_count": 162,
     "metadata": {},
     "output_type": "execute_result"
    }
   ],
   "source": [
    "all_posts.json()"
   ]
  },
  {
   "cell_type": "code",
   "execution_count": 165,
   "metadata": {},
   "outputs": [
    {
     "data": {
      "text/plain": [
       "{'data': []}"
      ]
     },
     "execution_count": 165,
     "metadata": {},
     "output_type": "execute_result"
    }
   ],
   "source": [
    "one_post_comments=requests.get('https://graph.facebook.com/v3.3/2353662771386373_2111215068964479/comments?access_token='+token)\n",
    "one_post_comments.json()"
   ]
  },
  {
   "cell_type": "code",
   "execution_count": null,
   "metadata": {},
   "outputs": [],
   "source": []
  }
 ],
 "metadata": {
  "kernelspec": {
   "display_name": "Python 3",
   "language": "python",
   "name": "python3"
  },
  "language_info": {
   "codemirror_mode": {
    "name": "ipython",
    "version": 3
   },
   "file_extension": ".py",
   "mimetype": "text/x-python",
   "name": "python",
   "nbconvert_exporter": "python",
   "pygments_lexer": "ipython3",
   "version": "3.7.2"
  }
 },
 "nbformat": 4,
 "nbformat_minor": 2
}
